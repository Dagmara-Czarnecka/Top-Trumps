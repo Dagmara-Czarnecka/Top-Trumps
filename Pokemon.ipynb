{
 "cells": [
  {
   "cell_type": "code",
   "execution_count": 1,
   "id": "8e21f04b",
   "metadata": {},
   "outputs": [],
   "source": [
    "import random\n",
    "import requests"
   ]
  },
  {
   "cell_type": "code",
   "execution_count": 2,
   "id": "b01688d2",
   "metadata": {},
   "outputs": [],
   "source": [
    "def get_random_pokemon():\n",
    "    pokemon_id = random.randint(1, 151)\n",
    "    response = requests.get(f\"https://pokeapi.co/api/v2/pokemon/{pokemon_id}\")\n",
    "    pokemon_data = response.json()\n",
    "    pokemon = {\n",
    "        \"name\": pokemon_data[\"name\"],\n",
    "        \"id\": pokemon_data[\"id\"],\n",
    "        \"height\": pokemon_data[\"height\"],\n",
    "        \"weight\": pokemon_data[\"weight\"]\n",
    "    }\n",
    "    return pokemon"
   ]
  },
  {
   "cell_type": "code",
   "execution_count": 3,
   "id": "5816c552",
   "metadata": {},
   "outputs": [],
   "source": [
    "def compare_stats(player_pokemon, opponent_pokemon, stat):\n",
    "    player_stat = player_pokemon[stat]\n",
    "    opponent_stat = opponent_pokemon[stat]\n",
    "    \n",
    "    if player_stat > opponent_stat:\n",
    "        return \"Player\"\n",
    "    elif player_stat < opponent_stat:\n",
    "        return \"Opponent\"\n",
    "    else:\n",
    "        return \"Draw\""
   ]
  },
  {
   "cell_type": "code",
   "execution_count": 5,
   "id": "f0c44194",
   "metadata": {},
   "outputs": [
    {
     "name": "stdout",
     "output_type": "stream",
     "text": [
      "Welcome to Pokemon Top Trumps!\n",
      "\n",
      "Player: eevee (ID: 133)\n",
      "Opponent: vulpix (ID: 37)\n",
      "\n",
      "Choose a stat to compare (id, height, or weight): weight\n",
      "\n",
      "Player's Weight: 65\n",
      "Opponent's Weight: 99\n",
      "Sorry, you lose. Better luck next time!\n"
     ]
    }
   ],
   "source": [
    "def play_game():\n",
    "    print(\"Welcome to Pokemon Top Trumps!\")\n",
    "    player_pokemon = get_random_pokemon()\n",
    "    opponent_pokemon = get_random_pokemon()\n",
    "    \n",
    "    print(f\"\\nPlayer: {player_pokemon['name']} (ID: {player_pokemon['id']})\")\n",
    "    print(f\"Opponent: {opponent_pokemon['name']} (ID: {opponent_pokemon['id']})\")\n",
    "    \n",
    "    stat_choice = input(\"\\nChoose a stat to compare (id, height, or weight): \")\n",
    "    while stat_choice.lower() not in [\"id\", \"height\", \"weight\"]:\n",
    "        stat_choice = input(\"Invalid input. Please choose a valid stat (id, height, or weight): \")\n",
    "    \n",
    "    winner = compare_stats(player_pokemon, opponent_pokemon, stat_choice.lower())\n",
    "    \n",
    "    print(f\"\\nPlayer's {stat_choice.capitalize()}: {player_pokemon[stat_choice]}\")\n",
    "    print(f\"Opponent's {stat_choice.capitalize()}: {opponent_pokemon[stat_choice]}\")\n",
    "    \n",
    "    if winner == \"Player\":\n",
    "        print(\"Congratulations! You win!\")\n",
    "    elif winner == \"Opponent\":\n",
    "        print(\"Sorry, you lose. Better luck next time!\")\n",
    "    else:\n",
    "        print(\"It's a draw!\")\n",
    "\n",
    "play_game()\n",
    "\n",
    "\n"
   ]
  },
  {
   "cell_type": "code",
   "execution_count": null,
   "id": "f6064457",
   "metadata": {},
   "outputs": [],
   "source": []
  }
 ],
 "metadata": {
  "kernelspec": {
   "display_name": "Python 3 (ipykernel)",
   "language": "python",
   "name": "python3"
  },
  "language_info": {
   "codemirror_mode": {
    "name": "ipython",
    "version": 3
   },
   "file_extension": ".py",
   "mimetype": "text/x-python",
   "name": "python",
   "nbconvert_exporter": "python",
   "pygments_lexer": "ipython3",
   "version": "3.9.12"
  }
 },
 "nbformat": 4,
 "nbformat_minor": 5
}
